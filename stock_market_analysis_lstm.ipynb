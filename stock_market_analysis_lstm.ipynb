{
  "nbformat": 4,
  "nbformat_minor": 0,
  "metadata": {
    "colab": {
      "provenance": [],
      "authorship_tag": "ABX9TyMEPPj2Z3ae6F/U5/OvcWWn",
      "include_colab_link": true
    },
    "kernelspec": {
      "name": "python3",
      "display_name": "Python 3"
    },
    "language_info": {
      "name": "python"
    }
  },
  "cells": [
    {
      "cell_type": "markdown",
      "metadata": {
        "id": "view-in-github",
        "colab_type": "text"
      },
      "source": [
        "<a href=\"https://colab.research.google.com/github/mervegb/stock-market-analysis-lstm/blob/main/stock_market_analysis_lstm.ipynb\" target=\"_parent\"><img src=\"https://colab.research.google.com/assets/colab-badge.svg\" alt=\"Open In Colab\"/></a>"
      ]
    },
    {
      "cell_type": "markdown",
      "source": [
        "This notebook uses yfinance to get stock information and visualize different aspects of it using Seaborn and Matplotlib\n",
        "\n",
        "We'll look into few ways of analyzing the risk of a stock based on its previous performance history\n",
        "\n",
        "We'll also be predicting future stock prices through a Long Short Term Memory (LSTM) method"
      ],
      "metadata": {
        "id": "kEZp281b5InK"
      }
    },
    {
      "cell_type": "code",
      "execution_count": 1,
      "metadata": {
        "id": "jnkJ1Ztv4zwQ"
      },
      "outputs": [],
      "source": [
        "!pip install -q yfinance"
      ]
    },
    {
      "cell_type": "code",
      "source": [
        "import pandas as pd\n",
        "import numpy as np\n",
        "\n",
        "import matplotlib.pyplot as plt\n",
        "import seaborn as sns"
      ],
      "metadata": {
        "id": "JQunbeBt5FIO"
      },
      "execution_count": 2,
      "outputs": []
    }
  ]
}