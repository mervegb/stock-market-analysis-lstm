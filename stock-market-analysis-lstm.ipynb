{
 "cells": [
  {
   "cell_type": "markdown",
   "id": "1f6544ba",
   "metadata": {
    "papermill": {
     "duration": 0.00323,
     "end_time": "2024-11-13T14:10:03.656841",
     "exception": false,
     "start_time": "2024-11-13T14:10:03.653611",
     "status": "completed"
    },
    "tags": []
   },
   "source": [
    "This notebook uses yfinance to get stock information and visualize different aspects of it using Seaborn and Matplotlib\n",
    "\n",
    "We'll look into few ways of analyzing the risk of a stock based on its previous performance history\n",
    "\n",
    "We'll also be predicting future stock prices through a Long Short Term Memory (LSTM) method"
   ]
  },
  {
   "cell_type": "code",
   "execution_count": 1,
   "id": "f22af414",
   "metadata": {
    "_kg_hide-input": true,
    "execution": {
     "iopub.execute_input": "2024-11-13T14:10:03.664006Z",
     "iopub.status.busy": "2024-11-13T14:10:03.663591Z",
     "iopub.status.idle": "2024-11-13T14:10:49.507162Z",
     "shell.execute_reply": "2024-11-13T14:10:49.505742Z"
    },
    "papermill": {
     "duration": 45.85031,
     "end_time": "2024-11-13T14:10:49.510072",
     "exception": false,
     "start_time": "2024-11-13T14:10:03.659762",
     "status": "completed"
    },
    "tags": []
   },
   "outputs": [],
   "source": [
    "!pip install -q yfinance"
   ]
  },
  {
   "cell_type": "code",
   "execution_count": 2,
   "id": "56480092",
   "metadata": {
    "execution": {
     "iopub.execute_input": "2024-11-13T14:10:49.517753Z",
     "iopub.status.busy": "2024-11-13T14:10:49.517240Z",
     "iopub.status.idle": "2024-11-13T14:10:53.701262Z",
     "shell.execute_reply": "2024-11-13T14:10:53.700201Z"
    },
    "papermill": {
     "duration": 4.19083,
     "end_time": "2024-11-13T14:10:53.704038",
     "exception": false,
     "start_time": "2024-11-13T14:10:49.513208",
     "status": "completed"
    },
    "tags": []
   },
   "outputs": [
    {
     "name": "stderr",
     "output_type": "stream",
     "text": [
      "[*********************100%***********************]  1 of 1 completed\n",
      "[*********************100%***********************]  1 of 1 completed\n",
      "[*********************100%***********************]  1 of 1 completed\n",
      "[*********************100%***********************]  1 of 1 completed\n"
     ]
    }
   ],
   "source": [
    "import yfinance as yf\n",
    "import pandas as pd\n",
    "from datetime import datetime\n",
    "import matplotlib.pyplot as plt\n",
    "import seaborn as sns\n",
    "\n",
    "sns.set_style('whitegrid')\n",
    "plt.style.use(\"fivethirtyeight\")\n",
    "%matplotlib inline\n",
    "\n",
    "# Define start and end dates\n",
    "end = datetime.now()\n",
    "start = datetime(end.year - 1, end.month, end.day)\n",
    "\n",
    "tickers = ['AAPL', 'GOOG', 'MSFT', 'AMZN']\n",
    "company_names = [\"APPLE\", \"GOOGLE\", \"MICROSOFT\", \"AMAZON\"]\n",
    "\n",
    "for ticker in tickers:\n",
    "    globals()[ticker] = yf.download(ticker, start, end)\n",
    "    \n",
    "company_list = [AAPL, GOOG, MSFT, AMZN]\n",
    "\n",
    "for company, company_name in zip(company_list, company_names):\n",
    "    company[\"company_name\"] = company_name\n",
    "    \n",
    "df = pd.concat(company_list, axis=0)"
   ]
  },
  {
   "cell_type": "code",
   "execution_count": 3,
   "id": "c42b47ca",
   "metadata": {
    "execution": {
     "iopub.execute_input": "2024-11-13T14:10:53.712873Z",
     "iopub.status.busy": "2024-11-13T14:10:53.712214Z",
     "iopub.status.idle": "2024-11-13T14:10:53.760890Z",
     "shell.execute_reply": "2024-11-13T14:10:53.759777Z"
    },
    "papermill": {
     "duration": 0.055977,
     "end_time": "2024-11-13T14:10:53.763522",
     "exception": false,
     "start_time": "2024-11-13T14:10:53.707545",
     "status": "completed"
    },
    "tags": []
   },
   "outputs": [
    {
     "data": {
      "text/html": [
       "<div>\n",
       "<style scoped>\n",
       "    .dataframe tbody tr th:only-of-type {\n",
       "        vertical-align: middle;\n",
       "    }\n",
       "\n",
       "    .dataframe tbody tr th {\n",
       "        vertical-align: top;\n",
       "    }\n",
       "\n",
       "    .dataframe thead tr th {\n",
       "        text-align: left;\n",
       "    }\n",
       "</style>\n",
       "<table border=\"1\" class=\"dataframe\">\n",
       "  <thead>\n",
       "    <tr>\n",
       "      <th>Price</th>\n",
       "      <th>Adj Close</th>\n",
       "      <th>Close</th>\n",
       "      <th>High</th>\n",
       "      <th>Low</th>\n",
       "      <th>Open</th>\n",
       "      <th>Volume</th>\n",
       "    </tr>\n",
       "    <tr>\n",
       "      <th>Ticker</th>\n",
       "      <th>AAPL</th>\n",
       "      <th>AAPL</th>\n",
       "      <th>AAPL</th>\n",
       "      <th>AAPL</th>\n",
       "      <th>AAPL</th>\n",
       "      <th>AAPL</th>\n",
       "    </tr>\n",
       "  </thead>\n",
       "  <tbody>\n",
       "    <tr>\n",
       "      <th>count</th>\n",
       "      <td>252.000000</td>\n",
       "      <td>252.000000</td>\n",
       "      <td>252.000000</td>\n",
       "      <td>252.000000</td>\n",
       "      <td>252.000000</td>\n",
       "      <td>2.520000e+02</td>\n",
       "    </tr>\n",
       "    <tr>\n",
       "      <th>mean</th>\n",
       "      <td>200.102411</td>\n",
       "      <td>200.661071</td>\n",
       "      <td>202.323334</td>\n",
       "      <td>198.826468</td>\n",
       "      <td>200.554722</td>\n",
       "      <td>5.764671e+07</td>\n",
       "    </tr>\n",
       "    <tr>\n",
       "      <th>std</th>\n",
       "      <td>21.634577</td>\n",
       "      <td>21.468145</td>\n",
       "      <td>21.678147</td>\n",
       "      <td>21.098120</td>\n",
       "      <td>21.451718</td>\n",
       "      <td>3.032860e+07</td>\n",
       "    </tr>\n",
       "    <tr>\n",
       "      <th>min</th>\n",
       "      <td>164.405121</td>\n",
       "      <td>165.000000</td>\n",
       "      <td>166.399994</td>\n",
       "      <td>164.080002</td>\n",
       "      <td>165.350006</td>\n",
       "      <td>2.404830e+07</td>\n",
       "    </tr>\n",
       "    <tr>\n",
       "      <th>25%</th>\n",
       "      <td>183.452488</td>\n",
       "      <td>184.224998</td>\n",
       "      <td>185.134995</td>\n",
       "      <td>182.204998</td>\n",
       "      <td>183.827499</td>\n",
       "      <td>4.228192e+07</td>\n",
       "    </tr>\n",
       "    <tr>\n",
       "      <th>50%</th>\n",
       "      <td>193.084076</td>\n",
       "      <td>193.959999</td>\n",
       "      <td>195.160004</td>\n",
       "      <td>192.900002</td>\n",
       "      <td>194.169998</td>\n",
       "      <td>5.083035e+07</td>\n",
       "    </tr>\n",
       "    <tr>\n",
       "      <th>75%</th>\n",
       "      <td>222.487720</td>\n",
       "      <td>222.732502</td>\n",
       "      <td>225.382504</td>\n",
       "      <td>221.174999</td>\n",
       "      <td>223.665001</td>\n",
       "      <td>6.372982e+07</td>\n",
       "    </tr>\n",
       "    <tr>\n",
       "      <th>max</th>\n",
       "      <td>236.220108</td>\n",
       "      <td>236.479996</td>\n",
       "      <td>237.490005</td>\n",
       "      <td>234.449997</td>\n",
       "      <td>236.479996</td>\n",
       "      <td>3.186799e+08</td>\n",
       "    </tr>\n",
       "  </tbody>\n",
       "</table>\n",
       "</div>"
      ],
      "text/plain": [
       "Price    Adj Close       Close        High         Low        Open  \\\n",
       "Ticker        AAPL        AAPL        AAPL        AAPL        AAPL   \n",
       "count   252.000000  252.000000  252.000000  252.000000  252.000000   \n",
       "mean    200.102411  200.661071  202.323334  198.826468  200.554722   \n",
       "std      21.634577   21.468145   21.678147   21.098120   21.451718   \n",
       "min     164.405121  165.000000  166.399994  164.080002  165.350006   \n",
       "25%     183.452488  184.224998  185.134995  182.204998  183.827499   \n",
       "50%     193.084076  193.959999  195.160004  192.900002  194.169998   \n",
       "75%     222.487720  222.732502  225.382504  221.174999  223.665001   \n",
       "max     236.220108  236.479996  237.490005  234.449997  236.479996   \n",
       "\n",
       "Price         Volume  \n",
       "Ticker          AAPL  \n",
       "count   2.520000e+02  \n",
       "mean    5.764671e+07  \n",
       "std     3.032860e+07  \n",
       "min     2.404830e+07  \n",
       "25%     4.228192e+07  \n",
       "50%     5.083035e+07  \n",
       "75%     6.372982e+07  \n",
       "max     3.186799e+08  "
      ]
     },
     "execution_count": 3,
     "metadata": {},
     "output_type": "execute_result"
    }
   ],
   "source": [
    "#Get Descriptive Statistics\n",
    "AAPL.describe()"
   ]
  },
  {
   "cell_type": "code",
   "execution_count": 4,
   "id": "4db0d49d",
   "metadata": {
    "execution": {
     "iopub.execute_input": "2024-11-13T14:10:53.773411Z",
     "iopub.status.busy": "2024-11-13T14:10:53.772386Z",
     "iopub.status.idle": "2024-11-13T14:10:53.793334Z",
     "shell.execute_reply": "2024-11-13T14:10:53.792261Z"
    },
    "papermill": {
     "duration": 0.02827,
     "end_time": "2024-11-13T14:10:53.795637",
     "exception": false,
     "start_time": "2024-11-13T14:10:53.767367",
     "status": "completed"
    },
    "tags": []
   },
   "outputs": [
    {
     "name": "stdout",
     "output_type": "stream",
     "text": [
      "<class 'pandas.core.frame.DataFrame'>\n",
      "DatetimeIndex: 252 entries, 2023-11-13 00:00:00+00:00 to 2024-11-12 00:00:00+00:00\n",
      "Data columns (total 7 columns):\n",
      " #   Column             Non-Null Count  Dtype  \n",
      "---  ------             --------------  -----  \n",
      " 0   (Adj Close, AAPL)  252 non-null    float64\n",
      " 1   (Close, AAPL)      252 non-null    float64\n",
      " 2   (High, AAPL)       252 non-null    float64\n",
      " 3   (Low, AAPL)        252 non-null    float64\n",
      " 4   (Open, AAPL)       252 non-null    float64\n",
      " 5   (Volume, AAPL)     252 non-null    int64  \n",
      " 6   (company_name, )   252 non-null    object \n",
      "dtypes: float64(5), int64(1), object(1)\n",
      "memory usage: 15.8+ KB\n"
     ]
    }
   ],
   "source": [
    "#Information about DataFrame\n",
    "AAPL.info()"
   ]
  }
 ],
 "metadata": {
  "kaggle": {
   "accelerator": "none",
   "dataSources": [
    {
     "datasetId": 195545,
     "sourceId": 433077,
     "sourceType": "datasetVersion"
    }
   ],
   "isGpuEnabled": false,
   "isInternetEnabled": true,
   "language": "python",
   "sourceType": "notebook"
  },
  "kernelspec": {
   "display_name": "Python 3",
   "language": "python",
   "name": "python3"
  },
  "language_info": {
   "codemirror_mode": {
    "name": "ipython",
    "version": 3
   },
   "file_extension": ".py",
   "mimetype": "text/x-python",
   "name": "python",
   "nbconvert_exporter": "python",
   "pygments_lexer": "ipython3",
   "version": "3.10.14"
  },
  "papermill": {
   "default_parameters": {},
   "duration": 53.859454,
   "end_time": "2024-11-13T14:10:54.419850",
   "environment_variables": {},
   "exception": null,
   "input_path": "__notebook__.ipynb",
   "output_path": "__notebook__.ipynb",
   "parameters": {},
   "start_time": "2024-11-13T14:10:00.560396",
   "version": "2.6.0"
  }
 },
 "nbformat": 4,
 "nbformat_minor": 5
}
